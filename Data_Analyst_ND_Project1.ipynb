{
 "cells": [
  {
   "cell_type": "markdown",
   "metadata": {},
   "source": [
    "## Statistics: The Science of Decisions Project Instructions\n",
    "\n",
    "#### Background Information\n",
    "\n",
    "In a Stroop task, participants are presented with a list of words, with each word displayed in a color of ink. The participant’s task is to say out loud the color of the ink in which the word is printed. The task has two conditions: a congruent words condition, and an incongruent words condition. In the congruent words condition, the words being displayed are color words whose names match the colors in which they are printed: for example RED, BLUE. In the incongruent words condition, the words displayed are color words whose names do not match the colors in which they are printed: for example PURPLE, ORANGE. In each case, we measure the time it takes to name the ink colors in equally-sized lists. Each participant will go through and record a time from each condition."
   ]
  },
  {
   "cell_type": "markdown",
   "metadata": {},
   "source": [
    "#### Questions For Investigation\n",
    "\n",
    "As a general note, be sure to keep a record of any resources that you use or refer to in the creation of your project. You will need to report your sources as part of the project submission.\n",
    "\n",
    "#### 1. What is our independent variable? What is our dependent variable?\n",
    "The independent variable is the individuals taking the tests.\n",
    "\n",
    "The dependent variable is the color being read out aloud.\n"
   ]
  },
  {
   "cell_type": "markdown",
   "metadata": {},
   "source": [
    "#### 2. What is an appropriate set of hypotheses for this task? What kind of statistical test do you expect to perform? Justify your choices.\n",
    "\n",
    "Dependent samples t-test where the null hypothesis is that the difference (d) in the pairs is =  0 (where d = Incongruent - Congruent) and the alternative hypothesis is that d is <> 0.\n",
    "\n",
    "This statistical test is a logic consequence of the Stroop tasks purpose to determine if the matching of color with word of different color has an effect on the speed of which these colors are read aloud, and since it is the same person performing each test, i.e. pairs of data.\n",
    "\n",
    "The null hypothesis will be tested using a two tailed t-test with an alpha level of 0.05"
   ]
  },
  {
   "cell_type": "markdown",
   "metadata": {},
   "source": [
    "#### 3. Report some descriptive statistics regarding this dataset. Include at least one measure of central tendency and at least one measure of variability."
   ]
  },
  {
   "cell_type": "code",
   "execution_count": 19,
   "metadata": {
    "collapsed": false
   },
   "outputs": [],
   "source": [
    "import pandas as pd"
   ]
  },
  {
   "cell_type": "code",
   "execution_count": 20,
   "metadata": {
    "collapsed": false
   },
   "outputs": [
    {
     "data": {
      "text/html": [
       "<div>\n",
       "<table border=\"1\" class=\"dataframe\">\n",
       "  <thead>\n",
       "    <tr style=\"text-align: right;\">\n",
       "      <th></th>\n",
       "      <th>Descriptive Statistics</th>\n",
       "      <th>n</th>\n",
       "      <th>Mean Score</th>\n",
       "      <th>Median</th>\n",
       "      <th>Standard deviation</th>\n",
       "    </tr>\n",
       "  </thead>\n",
       "  <tbody>\n",
       "    <tr>\n",
       "      <th>0</th>\n",
       "      <td>Congruent</td>\n",
       "      <td>24</td>\n",
       "      <td>14,0511</td>\n",
       "      <td>14,3565</td>\n",
       "      <td>3,5594</td>\n",
       "    </tr>\n",
       "    <tr>\n",
       "      <th>1</th>\n",
       "      <td>Incongruent</td>\n",
       "      <td>24</td>\n",
       "      <td>22,0159</td>\n",
       "      <td>21,0175</td>\n",
       "      <td>4,7971</td>\n",
       "    </tr>\n",
       "    <tr>\n",
       "      <th>2</th>\n",
       "      <td>Difference</td>\n",
       "      <td>24</td>\n",
       "      <td>7,9648</td>\n",
       "      <td>7,6665</td>\n",
       "      <td>4,8648</td>\n",
       "    </tr>\n",
       "  </tbody>\n",
       "</table>\n",
       "</div>"
      ],
      "text/plain": [
       "  Descriptive Statistics   n Mean Score   Median Standard deviation\n",
       "0              Congruent  24    14,0511  14,3565             3,5594\n",
       "1            Incongruent  24    22,0159  21,0175             4,7971\n",
       "2             Difference  24     7,9648   7,6665             4,8648"
      ]
     },
     "execution_count": 20,
     "metadata": {},
     "output_type": "execute_result"
    }
   ],
   "source": [
    "path = 'C:\\Users\\Peter\\Downloads\\DescND1 - Ark1.csv'\n",
    "dataFrame1 = pd.read_csv(path)\n",
    "dataFrame1"
   ]
  },
  {
   "cell_type": "markdown",
   "metadata": {},
   "source": [
    "#### 4. Provide one or two visualizations that show the distribution of the sample data. Write one or two sentences noting what you observe about the plot or plots."
   ]
  },
  {
   "cell_type": "code",
   "execution_count": 21,
   "metadata": {
    "collapsed": false
   },
   "outputs": [
    {
     "name": "stdout",
     "output_type": "stream",
     "text": [
      "Populating the interactive namespace from numpy and matplotlib\n"
     ]
    },
    {
     "data": {
      "image/png": "[encoded data removed]",
      "text/plain": [
       "<matplotlib.figure.Figure at 0xc2cf630>"
      ]
     },
     "metadata": {},
     "output_type": "display_data"
    }
   ],
   "source": [
    "path = 'C:\\Users\\Peter\\Downloads\\stroopdata (1).csv'\n",
    "dataFrame = pd.read_csv(path)\n",
    "\n",
    "\n",
    "%pylab inline\n",
    "\n",
    "import matplotlib.pyplot as plt\n",
    "\n",
    "plt.scatter(x=dataFrame['Congruent'], y=dataFrame['Incongruent'])\n",
    "            # title=\"\")\n",
    "plt.xlabel(\"Congruent Score\")\n",
    "plt.ylabel(\"Incongruent Score\")\n",
    "plt.title(\"Relationship Stroop task\")\n",
    "plt.show()"
   ]
  },
  {
   "cell_type": "markdown",
   "metadata": {},
   "source": [
    "xxxxxxx................................................................"
   ]
  },
  {
   "cell_type": "code",
   "execution_count": 22,
   "metadata": {
    "collapsed": false
   },
   "outputs": [
    {
     "data": {
      "image/png": "[encoded data removed]",
      "text/plain": [
       "<matplotlib.figure.Figure at 0xbfefb00>"
      ]
     },
     "metadata": {},
     "output_type": "display_data"
    }
   ],
   "source": [
    "plt.scatter(x=dataFrame['Congruent'], y=dataFrame['Incongruent'])\n",
    "            # title=\"\")\n",
    "plt.xlabel(\"Congruent Score\")\n",
    "plt.ylabel(\"Incongruent Score\")\n",
    "plt.title(\"Relationship Stroop task\")\n",
    "plt.show()"
   ]
  },
  {
   "cell_type": "markdown",
   "metadata": {
    "collapsed": true
   },
   "source": [
    "#### 5. Now, perform the statistical test and report your results. What is your confidence level and your critical statistic value? Do you reject the null hypothesis or fail to reject it? Come to a conclusion in terms of the experiment task. Did the results match up with your expectations?"
   ]
  },
  {
   "cell_type": "code",
   "execution_count": 23,
   "metadata": {
    "collapsed": false
   },
   "outputs": [
    {
     "data": {
      "text/html": [
       "<div>\n",
       "<table border=\"1\" class=\"dataframe\">\n",
       "  <thead>\n",
       "    <tr style=\"text-align: right;\">\n",
       "      <th></th>\n",
       "      <th>Statistical test on the Mean of differences between Incongruent and Congruent scores</th>\n",
       "      <th>---------------------</th>\n",
       "      <th>----------------------</th>\n",
       "      <th>---------------------------------------------------</th>\n",
       "    </tr>\n",
       "  </thead>\n",
       "  <tbody>\n",
       "    <tr>\n",
       "      <th>0</th>\n",
       "      <td>Test Statistic</td>\n",
       "      <td>8,0207</td>\n",
       "      <td>------------------------</td>\n",
       "      <td>----------------------------------------------...</td>\n",
       "    </tr>\n",
       "    <tr>\n",
       "      <th>1</th>\n",
       "      <td>P value</td>\n",
       "      <td>0,0001</td>\n",
       "      <td>------------------------</td>\n",
       "      <td>Two tailed p value less than 0,0001</td>\n",
       "    </tr>\n",
       "    <tr>\n",
       "      <th>2</th>\n",
       "      <td>t-critical values at alpha level 0.05</td>\n",
       "      <td>-2,06866</td>\n",
       "      <td>2,06866</td>\n",
       "      <td>23 degrees of Freedom at p value of 0,025</td>\n",
       "    </tr>\n",
       "    <tr>\n",
       "      <th>3</th>\n",
       "      <td>95% confidence interval</td>\n",
       "      <td>5,8664</td>\n",
       "      <td>10,0632</td>\n",
       "      <td>----------------------------------------------...</td>\n",
       "    </tr>\n",
       "  </tbody>\n",
       "</table>\n",
       "</div>"
      ],
      "text/plain": [
       "  Statistical test on the Mean of differences between Incongruent and Congruent scores  \\\n",
       "0                                     Test Statistic                                     \n",
       "1                                            P value                                     \n",
       "2              t-critical values at alpha level 0.05                                     \n",
       "3                            95% confidence interval                                     \n",
       "\n",
       "  ---------------------    ----------------------  \\\n",
       "0                8,0207  ------------------------   \n",
       "1                0,0001  ------------------------   \n",
       "2              -2,06866                   2,06866   \n",
       "3                5,8664                   10,0632   \n",
       "\n",
       "  ---------------------------------------------------  \n",
       "0  ----------------------------------------------...   \n",
       "1                Two tailed p value less than 0,0001   \n",
       "2          23 degrees of Freedom at p value of 0,025   \n",
       "3  ----------------------------------------------...   "
      ]
     },
     "execution_count": 23,
     "metadata": {},
     "output_type": "execute_result"
    }
   ],
   "source": [
    "path = 'C:\\Users\\Peter\\Downloads\\StatTestND1 - Ark1.csv'\n",
    "dataFrame2 = pd.read_csv(path)\n",
    "dataFrame2"
   ]
  },
  {
   "cell_type": "markdown",
   "metadata": {},
   "source": [
    "The null hypothesis is rejected - support for this is statistically significant \n",
    "This was expected given the difference in mean scores"
   ]
  },
  {
   "cell_type": "markdown",
   "metadata": {},
   "source": [
    "#### 6. Optional: What do you think is responsible for the effects observed? Can you think of an alternative or similar task that would result in a similar effect? Some research about the problem will be helpful for thinking about these two questions!"
   ]
  },
  {
   "cell_type": "markdown",
   "metadata": {},
   "source": [
    "#### Sources:"
   ]
  },
  {
   "cell_type": "code",
   "execution_count": null,
   "metadata": {
    "collapsed": true
   },
   "outputs": [],
   "source": []
  }
 ],
 "metadata": {
  "kernelspec": {
   "display_name": "Python 2",
   "language": "python",
   "name": "python2"
  },
  "language_info": {
   "codemirror_mode": {
    "name": "ipython",
    "version": 2
   },
   "file_extension": ".py",
   "mimetype": "text/x-python",
   "name": "python",
   "nbconvert_exporter": "python",
   "pygments_lexer": "ipython2",
   "version": "2.7.10"
  }
 },
 "nbformat": 4,
 "nbformat_minor": 0
}
